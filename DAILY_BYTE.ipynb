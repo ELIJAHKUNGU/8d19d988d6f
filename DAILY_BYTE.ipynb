{
  "nbformat": 4,
  "nbformat_minor": 0,
  "metadata": {
    "colab": {
      "name": "DAILY BYTE.ipynb",
      "provenance": [],
      "collapsed_sections": [],
      "authorship_tag": "ABX9TyPr4u0Cbpccc5pTZTNKgOhD",
      "include_colab_link": true
    },
    "kernelspec": {
      "name": "python3",
      "display_name": "Python 3"
    },
    "language_info": {
      "name": "python"
    }
  },
  "cells": [
    {
      "cell_type": "markdown",
      "metadata": {
        "id": "view-in-github",
        "colab_type": "text"
      },
      "source": [
        "<a href=\"https://colab.research.google.com/github/ELIJAHKUNGU/8d19d988d6f/blob/main/DAILY_BYTE.ipynb\" target=\"_parent\"><img src=\"https://colab.research.google.com/assets/colab-badge.svg\" alt=\"Open In Colab\"/></a>"
      ]
    },
    {
      "cell_type": "markdown",
      "source": [
        "This question is asked by Facebook. Given an array of unsorted integers, return the length of its longest increasing subsequence.\n",
        "Note: You may assume the array will only contain positive numbers."
      ],
      "metadata": {
        "id": "AjR4d4KJaZYe"
      }
    },
    {
      "cell_type": "code",
      "source": [
        ""
      ],
      "metadata": {
        "id": "QJijXueraebo"
      },
      "execution_count": null,
      "outputs": []
    },
    {
      "cell_type": "markdown",
      "source": [
        "x: Given the following array nums…"
      ],
      "metadata": {
        "id": "20rmJbunakFu"
      }
    },
    {
      "cell_type": "code",
      "source": [
        "\n",
        "def lis(nums):\n",
        "    n = len(nums)\n",
        "    # Declare the list (num say) for LIS and initialize LIS\n",
        "    # values for all indexes\n",
        "    lis = [1]*n\n",
        " \n",
        "    # Compute optimized LIS values in bottom up manner\n",
        "    for i in range (1, n):\n",
        "        for j in range(0, i):\n",
        "            if nums[i] > nums[j] and lis[i]< lis[j] + 1 :\n",
        "                lis[i] = lis[j]+1\n",
        " \n",
        "    # Initialize maximum to 0 to get the maximum of all\n",
        "    # LIS\n",
        "    maximum = 0\n",
        " \n",
        "    # Pick maximum of all LIS values\n",
        "    for i in range(n):\n",
        "        maximum = max(maximum, lis[i])\n",
        " \n",
        "    return maximum\n",
        "# end of lis function\n",
        " \n",
        "# Driver program to test above function\n",
        "nums = [1, 9, 7, 4, 7, 13]\n",
        "print(\"Length of lis is\", lis(nums))"
      ],
      "metadata": {
        "colab": {
          "base_uri": "https://localhost:8080/"
        },
        "id": "Xwqczv-faleT",
        "outputId": "2db24135-d15a-44cc-c47d-65a339fc7685"
      },
      "execution_count": null,
      "outputs": [
        {
          "output_type": "stream",
          "name": "stdout",
          "text": [
            "Length of lis is 4\n"
          ]
        }
      ]
    },
    {
      "cell_type": "code",
      "source": [
        ""
      ],
      "metadata": {
        "id": "ioozLGTdwSgT"
      },
      "execution_count": null,
      "outputs": []
    }
  ]
}